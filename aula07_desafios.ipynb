{
  "nbformat": 4,
  "nbformat_minor": 0,
  "metadata": {
    "colab": {
      "provenance": [],
      "include_colab_link": true
    },
    "kernelspec": {
      "name": "python3",
      "display_name": "Python 3"
    },
    "language_info": {
      "name": "python"
    }
  },
  "cells": [
    {
      "cell_type": "markdown",
      "metadata": {
        "id": "view-in-github",
        "colab_type": "text"
      },
      "source": [
        "<a href=\"https://colab.research.google.com/github/Bruenon/python/blob/master/aula07_desafios.ipynb\" target=\"_parent\"><img src=\"https://colab.research.google.com/assets/colab-badge.svg\" alt=\"Open In Colab\"/></a>"
      ]
    },
    {
      "cell_type": "code",
      "execution_count": null,
      "metadata": {
        "colab": {
          "base_uri": "https://localhost:8080/"
        },
        "id": "sE6fRyO23AOk",
        "outputId": "84ce88da-f89f-42bc-9d2f-1d5c1b661b7e"
      },
      "outputs": [
        {
          "output_type": "stream",
          "name": "stdout",
          "text": [
            "Um valor: 5\n",
            "Outro valor: 10\n",
            "A soma vale 15 e o produto é 50 e a divisão é 0.5 >>>>A Divisão inteira 0\n",
            "A potência 9765625\n"
          ]
        }
      ],
      "source": [
        "n1 = int(input('Um valor: '))\n",
        "n2 = int(input('Outro valor: '))\n",
        "s = n1 + n2\n",
        "m = n1 * n2\n",
        "d = n1 / n2\n",
        "di = n1 // n2\n",
        "e = n1 ** n2\n",
        "print(f'A soma vale {s} e o produto é {m} e a divisão é {d} ', end= '>>>> ')\n",
        "print(f'A Divisão inteira {di}\\nA potência {e}')\n"
      ]
    },
    {
      "cell_type": "code",
      "source": [
        "num = int(input('Digite um número: '))\n",
        "s = num + 1\n",
        "a = num - 1\n",
        "print(f'O número digitado foi {num}, seu antecessor é o {a} e seu sucessor é o {s}')"
      ],
      "metadata": {
        "colab": {
          "base_uri": "https://localhost:8080/"
        },
        "id": "9g7y5lTP-UHc",
        "outputId": "b729e364-5566-46ea-9432-72ee7b984e32"
      },
      "execution_count": null,
      "outputs": [
        {
          "output_type": "stream",
          "name": "stdout",
          "text": [
            "Digite um número: 5\n",
            "O número digitado foi 5, seu antecessor é o 4 e seu sucessor é o 6\n"
          ]
        }
      ]
    },
    {
      "cell_type": "code",
      "source": [
        "num = int(input('Digite um número: '))\n",
        "eq = num**2\n",
        "ec = num**3\n",
        "r = num**(1/2)\n",
        "print(f'O número elevado ao Quadrado é {eq}, ao Cubo {ec} e sua Raiz Quadrada é {r}!')\n"
      ],
      "metadata": {
        "colab": {
          "base_uri": "https://localhost:8080/"
        },
        "id": "rwUL21iA-1Ct",
        "outputId": "c142e3c9-428b-4276-a883-4833f4b60e72"
      },
      "execution_count": null,
      "outputs": [
        {
          "output_type": "stream",
          "name": "stdout",
          "text": [
            "Digite um número: 7\n",
            "O número elevado ao Quadrado é 49, ao Cubo 343 e sua Raiz Quadrada é 2.6457513110645907!\n"
          ]
        }
      ]
    },
    {
      "cell_type": "code",
      "source": [
        "n1 = int(input('Digite a primira nota: '))\n",
        "n2 = int(input('Digite a segunda nota: '))\n",
        "med = (n1 + n2) / 2\n",
        "print(f'A média da nota 1 \"{n1}\" e nota 2 \"{n2}\" é {med}!')"
      ],
      "metadata": {
        "colab": {
          "base_uri": "https://localhost:8080/"
        },
        "id": "Yds52fMX_yCO",
        "outputId": "35b44216-c879-4829-ebf4-690de8dc3d17"
      },
      "execution_count": null,
      "outputs": [
        {
          "output_type": "stream",
          "name": "stdout",
          "text": [
            "Digite a primira nota: 65\n",
            "Digite a segunda nota: 61\n",
            "A média da nota 1 \"65\" e nota 2 \"61\" é 63.0!\n"
          ]
        }
      ]
    },
    {
      "cell_type": "code",
      "source": [
        "metro = int(input('Digite o valor em metros: '))\n",
        "cent = metro * 10\n",
        "mili = cent * 10\n",
        "print(f'Valor informado: {metro}\\nValor em Centímetros: {cent}\\nValor em Milímetros: {mili}')"
      ],
      "metadata": {
        "colab": {
          "base_uri": "https://localhost:8080/"
        },
        "id": "rMk-xj4qApsd",
        "outputId": "42e3c2b1-ff87-4648-88cf-b69e98f3971d"
      },
      "execution_count": null,
      "outputs": [
        {
          "output_type": "stream",
          "name": "stdout",
          "text": [
            "Digite o valor em metros: 10\n",
            "Valor informado: 10\n",
            "Valor em Centímetros: 100\n",
            "Valor em Milímetros: 1000\n"
          ]
        }
      ]
    },
    {
      "cell_type": "code",
      "source": [
        "num = int(input('Digite um número: '))\n",
        "t01 = num * 1\n",
        "t02 = num * 2\n",
        "t03 = num * 3\n",
        "t04 = num * 4\n",
        "t05 = num * 5\n",
        "t06 = num * 6\n",
        "t07 = num * 7\n",
        "t08 = num * 8\n",
        "t09 = num * 9\n",
        "t10 = num * 10\n",
        "print(f'A tabuada do número digitado é:\\n{t01}\\n{t02}\\n{t03}\\n{t04}\\n{t05}\\n{t06}\\n{t07}\\n{t08}\\n{t09}\\n{t10}')"
      ],
      "metadata": {
        "colab": {
          "base_uri": "https://localhost:8080/"
        },
        "id": "pt_HL8DeR0Ot",
        "outputId": "b0e69a4e-ccbc-4302-d067-6abad2a56f83"
      },
      "execution_count": null,
      "outputs": [
        {
          "output_type": "stream",
          "name": "stdout",
          "text": [
            "Digite um número: 9\n",
            "A tabuada do número digitado é:\n",
            "9\n",
            "18\n",
            "27\n",
            "36\n",
            "45\n",
            "54\n",
            "63\n",
            "72\n",
            "81\n",
            "90\n"
          ]
        }
      ]
    },
    {
      "cell_type": "code",
      "source": [
        "din = float(input('Digite a quantidade de dinheiro: '))\n",
        "dolar = din / 3.27\n",
        "print(f'Você pode comprar {dolar:.2f} dolare(s).')\n"
      ],
      "metadata": {
        "colab": {
          "base_uri": "https://localhost:8080/"
        },
        "id": "5tR7EfdIhgi_",
        "outputId": "6d38cb14-4cb3-47bc-b86a-02af7fb265fc"
      },
      "execution_count": null,
      "outputs": [
        {
          "output_type": "stream",
          "name": "stdout",
          "text": [
            "Digite a quantidade de dinheiro: 1000\n",
            "Você pode comprar 305.81 dolare(s).\n"
          ]
        }
      ]
    },
    {
      "cell_type": "code",
      "source": [
        "a = int(input('Qual a altura: '))\n",
        "l = int(input('Qual a largura: '))\n",
        "area = a * l\n",
        "tinta = area / 2\n",
        "print(f'A área da parede é {area} metros e é necessário {tinta}L de tinta.')"
      ],
      "metadata": {
        "colab": {
          "base_uri": "https://localhost:8080/"
        },
        "id": "tUlDXLG5jxGP",
        "outputId": "da1e0062-629e-406a-df1c-a0ca6c8a21b9"
      },
      "execution_count": null,
      "outputs": [
        {
          "output_type": "stream",
          "name": "stdout",
          "text": [
            "Qual a altura: 8\n",
            "Qual a largura: 4\n",
            "A área da parede é 32 metros e é necessário 16.0L de tinta.\n"
          ]
        }
      ]
    },
    {
      "cell_type": "code",
      "source": [
        "preco = int(input('Digite o preço do produto: '))\n",
        "desc = preco * 5 / 100\n",
        "total = preco - desc\n",
        "print(f'O produto custa {total} com 5% de desconto.')\n"
      ],
      "metadata": {
        "colab": {
          "base_uri": "https://localhost:8080/"
        },
        "id": "ZpkftLqua6CG",
        "outputId": "020b3ff6-8faa-4da3-fd52-5c2242e18baf"
      },
      "execution_count": 3,
      "outputs": [
        {
          "output_type": "stream",
          "name": "stdout",
          "text": [
            "Digite o preço do produto: 5\n",
            "O produto custa 4.75 com 5% de desconto.\n"
          ]
        }
      ]
    },
    {
      "cell_type": "code",
      "source": [
        "salario1 = int(input('Digite o seu salário: '))\n",
        "aumento = salario1 * 15 / 100\n",
        "salario2 = salario1 + aumento\n",
        "print(f'O seu novo salário é {salario2} com 15% de aumento.')\n"
      ],
      "metadata": {
        "colab": {
          "base_uri": "https://localhost:8080/"
        },
        "id": "5379nqMNbnnz",
        "outputId": "a82b6963-05db-4bb1-f17e-5dfff3bc69e1"
      },
      "execution_count": 5,
      "outputs": [
        {
          "output_type": "stream",
          "name": "stdout",
          "text": [
            "Digite o seu salário: 1000\n",
            "O seu novo salário é 1150.0 com 15% de aumento.\n"
          ]
        }
      ]
    },
    {
      "cell_type": "code",
      "source": [
        "variavel = input('O que você deseja converter? ')\n",
        "if variavel == 'hora' :\n",
        "  hora = int(input('Digite quantas horas: '))\n",
        "  h = input('Você quer converter para minuto ou segundo? Digite \"m\" ou \"s\": ')\n",
        "  if h == 'm' :\n",
        "    min = hora * 60\n",
        "    print(f'{hora} é igual a {min:.2f} minutos.')\n",
        "  else :\n",
        "    seg = hora * 60 * 60\n",
        "    print(f'{hora} é igual a {seg:.2f} segundos.')\n",
        "\n",
        "elif variavel == 'minuto' :\n",
        "  minuto = int(input('Digite quantos minutos: '))\n",
        "  m = input('Você quer converter para hora ou segundo? Digite \"h\" ou \"s\": ')\n",
        "  if m == 'h' :\n",
        "    hor = minuto / 60\n",
        "    print(f'{minuto} é igual a {hor:.2f} horas.')\n",
        "  else :\n",
        "    seg = minuto * 60\n",
        "    print(f'{minuto} é igual a {seg:.2f} segundos.')\n",
        "\n",
        "elif variavel == 'segundo' :\n",
        "    segundo = int(input('Digite quantos segundos: '))\n",
        "    s = input('Você quer converter para hora ou minuto? Digite \"h\" ou \"m\": ')\n",
        "    if s == 'm' :\n",
        "      min = segundo / 60\n",
        "      print(f'{segundo} é igual a {min:.2f} minutos.')\n",
        "    else :\n",
        "      hor = segundo / 60 / 60\n",
        "      print(f'{segundo} é igual a {hor:.2f} horas.')\n",
        "else :\n",
        "  print('Código inválido')"
      ],
      "metadata": {
        "colab": {
          "base_uri": "https://localhost:8080/"
        },
        "id": "nPvRPUeRBtez",
        "outputId": "04687e92-6af2-4ec1-f4c3-c903636ef7ab"
      },
      "execution_count": null,
      "outputs": [
        {
          "output_type": "stream",
          "name": "stdout",
          "text": [
            "O que você deseja converter? segundo\n",
            "Digite quantos segundos: 100\n",
            "Você quer converter para hora ou minuto? Digite \"h\" ou \"m\": h\n",
            "100 é igual a 0.03 horas.\n"
          ]
        }
      ]
    }
  ]
}