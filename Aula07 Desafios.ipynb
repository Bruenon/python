{
  "nbformat": 4,
  "nbformat_minor": 0,
  "metadata": {
    "colab": {
      "provenance": [],
      "authorship_tag": "ABX9TyNlWXKQ8rm/T4Mbi3JE+Dgy",
      "include_colab_link": true
    },
    "kernelspec": {
      "name": "python3",
      "display_name": "Python 3"
    },
    "language_info": {
      "name": "python"
    }
  },
  "cells": [
    {
      "cell_type": "markdown",
      "metadata": {
        "id": "view-in-github",
        "colab_type": "text"
      },
      "source": [
        "<a href=\"https://colab.research.google.com/github/Bruenon/python/blob/master/Aula07%20Desafios.ipynb\" target=\"_parent\"><img src=\"https://colab.research.google.com/assets/colab-badge.svg\" alt=\"Open In Colab\"/></a>"
      ]
    },
    {
      "cell_type": "code",
      "execution_count": 13,
      "metadata": {
        "colab": {
          "base_uri": "https://localhost:8080/"
        },
        "id": "sE6fRyO23AOk",
        "outputId": "84ce88da-f89f-42bc-9d2f-1d5c1b661b7e"
      },
      "outputs": [
        {
          "output_type": "stream",
          "name": "stdout",
          "text": [
            "Um valor: 5\n",
            "Outro valor: 10\n",
            "A soma vale 15 e o produto é 50 e a divisão é 0.5 >>>>A Divisão inteira 0\n",
            "A potência 9765625\n"
          ]
        }
      ],
      "source": [
        "n1 = int(input('Um valor: '))\n",
        "n2 = int(input('Outro valor: '))\n",
        "s = n1 + n2\n",
        "m = n1 * n2\n",
        "d = n1 / n2\n",
        "di = n1 // n2\n",
        "e = n1 ** n2\n",
        "print(f'A soma vale {s} e o produto é {m} e a divisão é {d} ', end= '>>>> ')\n",
        "print(f'A Divisão inteira {di}\\nA potência {e}')\n"
      ]
    },
    {
      "cell_type": "code",
      "source": [
        "num = int(input('Digite um número: '))\n",
        "s = num + 1\n",
        "a = num - 1\n",
        "print(f'O número digitado foi {num}, seu antecessor é o {a} e seu sucessor é o {s}')"
      ],
      "metadata": {
        "colab": {
          "base_uri": "https://localhost:8080/"
        },
        "id": "9g7y5lTP-UHc",
        "outputId": "b729e364-5566-46ea-9432-72ee7b984e32"
      },
      "execution_count": 14,
      "outputs": [
        {
          "output_type": "stream",
          "name": "stdout",
          "text": [
            "Digite um número: 5\n",
            "O número digitado foi 5, seu antecessor é o 4 e seu sucessor é o 6\n"
          ]
        }
      ]
    },
    {
      "cell_type": "code",
      "source": [
        "num = int(input('Digite um número: '))\n",
        "eq = num**2\n",
        "ec = num**3\n",
        "r = num**(1/2)\n",
        "print(f'O número elevado ao Quadrado é {eq}, ao Cubo {ec} e sua Raiz Quadrada é {r}!')\n"
      ],
      "metadata": {
        "colab": {
          "base_uri": "https://localhost:8080/"
        },
        "id": "rwUL21iA-1Ct",
        "outputId": "c142e3c9-428b-4276-a883-4833f4b60e72"
      },
      "execution_count": 15,
      "outputs": [
        {
          "output_type": "stream",
          "name": "stdout",
          "text": [
            "Digite um número: 7\n",
            "O número elevado ao Quadrado é 49, ao Cubo 343 e sua Raiz Quadrada é 2.6457513110645907!\n"
          ]
        }
      ]
    },
    {
      "cell_type": "code",
      "source": [
        "n1 = int(input('Digite a primira nota: '))\n",
        "n2 = int(input('Digite a segunda nota: '))\n",
        "med = (n1 + n2) / 2\n",
        "print(f'A média da nota 1 \"{n1}\" e nota 2 \"{n2}\" é {med}!')"
      ],
      "metadata": {
        "colab": {
          "base_uri": "https://localhost:8080/"
        },
        "id": "Yds52fMX_yCO",
        "outputId": "06019e02-e4d1-4e1c-8c9a-7a6e64afb385"
      },
      "execution_count": 18,
      "outputs": [
        {
          "output_type": "stream",
          "name": "stdout",
          "text": [
            "Digite a primira nota: 57\n",
            "Digite a segunda nota: 83\n",
            "A média da nota 1 \"57\" e nota 2 \"83\" é 70.0!\n"
          ]
        }
      ]
    },
    {
      "cell_type": "code",
      "source": [
        "metro = int(input('Digite o valor em metros: '))\n",
        "cent = metro * 10\n",
        "mili = cent * 10\n",
        "print(f'Valor informado: {metro}\\nValor em Centímetros: {cent}\\nValor em Milímetros: {mili}')"
      ],
      "metadata": {
        "colab": {
          "base_uri": "https://localhost:8080/"
        },
        "id": "rMk-xj4qApsd",
        "outputId": "42e3c2b1-ff87-4648-88cf-b69e98f3971d"
      },
      "execution_count": 19,
      "outputs": [
        {
          "output_type": "stream",
          "name": "stdout",
          "text": [
            "Digite o valor em metros: 10\n",
            "Valor informado: 10\n",
            "Valor em Centímetros: 100\n",
            "Valor em Milímetros: 1000\n"
          ]
        }
      ]
    },
    {
      "cell_type": "code",
      "source": [
        "variavel = input('O que você deseja converter? ')\n",
        "if variavel == 'hora' :\n",
        "  hora = int(input('Digite quantas horas: '))\n",
        "  h = input('Você quer converter para minuto ou segundo? Digite \"m\" ou \"s\": ')\n",
        "  if h == 'm' :\n",
        "    min = hora * 60\n",
        "    print(f'{hora} é igual a {min:.2f} minutos.')\n",
        "  else :\n",
        "    seg = hora * 60 * 60\n",
        "    print(f'{hora} é igual a {seg:.2f} segundos.')\n",
        "\n",
        "if variavel == 'minuto' :\n",
        "  minuto = int(input('Digite quantos minutos: '))\n",
        "  m = input('Você quer converter para hora ou segundo? Digite \"h\" ou \"s\": ')\n",
        "  if m == 'h' :\n",
        "    hor = minuto / 60\n",
        "    print(f'{minuto} é igual a {hor:.2f} horas.')\n",
        "  else :\n",
        "    seg = minuto * 60\n",
        "    print(f'{minuto} é igual a {seg:.2f} segundos.')\n",
        "\n",
        "if variavel == 'segundo' :\n",
        "    segundo = int(input('Digite quantos segundos: '))\n",
        "    s = input('Você quer converter para hora ou minuto? Digite \"h\" ou \"m\": ')\n",
        "    if s == 'm' :\n",
        "      min = segundo / 60\n",
        "      print(f'{segundo} é igual a {min:.2f} minutos.')\n",
        "    else :\n",
        "      hor = segundo / 60 / 60\n",
        "      print(f'{segundo} é igual a {hor:.2f} horas.')\n",
        "else :\n",
        "  print('Código inválido')"
      ],
      "metadata": {
        "colab": {
          "base_uri": "https://localhost:8080/"
        },
        "id": "nPvRPUeRBtez",
        "outputId": "49a0f348-96ad-4fc6-8d13-a934de2666a9"
      },
      "execution_count": 41,
      "outputs": [
        {
          "output_type": "stream",
          "name": "stdout",
          "text": [
            "O que você deseja converter? segundo\n",
            "Digite quantos segundos: 48970\n",
            "Você quer converter para hora ou minuto? Digite \"h\" ou \"m\": h\n",
            "48970 é igual a 13.60 horas.\n"
          ]
        }
      ]
    }
  ]
}