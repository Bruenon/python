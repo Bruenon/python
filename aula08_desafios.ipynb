{
  "nbformat": 4,
  "nbformat_minor": 0,
  "metadata": {
    "colab": {
      "provenance": [],
      "authorship_tag": "ABX9TyPqU4xLAI9hogGilHVK5xED",
      "include_colab_link": true
    },
    "kernelspec": {
      "name": "python3",
      "display_name": "Python 3"
    },
    "language_info": {
      "name": "python"
    }
  },
  "cells": [
    {
      "cell_type": "markdown",
      "metadata": {
        "id": "view-in-github",
        "colab_type": "text"
      },
      "source": [
        "<a href=\"https://colab.research.google.com/github/Bruenon/python/blob/master/aula08_desafios.ipynb\" target=\"_parent\"><img src=\"https://colab.research.google.com/assets/colab-badge.svg\" alt=\"Open In Colab\"/></a>"
      ]
    },
    {
      "cell_type": "code",
      "execution_count": 8,
      "metadata": {
        "id": "WIAjSuQKqRjx",
        "colab": {
          "base_uri": "https://localhost:8080/"
        },
        "outputId": "f3edf939-ba95-4cf5-c5ac-68e4a664dca0"
      },
      "outputs": [
        {
          "output_type": "stream",
          "name": "stdout",
          "text": [
            "Digite um número: 29\n",
            "A raiz de 29 é igual a 5!\n"
          ]
        }
      ],
      "source": [
        "from math import sqrt\n",
        "num = int(input('Digite um número: '))\n",
        "raiz = sqrt(num)\n",
        "print(f'A raiz de {num} é igual a {raiz:.2f}!')\n"
      ]
    },
    {
      "cell_type": "code",
      "source": [
        "import random\n",
        "num = random.randint(1, 10)\n",
        "print(num)\n"
      ],
      "metadata": {
        "colab": {
          "base_uri": "https://localhost:8080/"
        },
        "id": "I8u8UsEkUTC-",
        "outputId": "30128845-953a-44ee-efca-2abbe3502ba3"
      },
      "execution_count": 14,
      "outputs": [
        {
          "output_type": "stream",
          "name": "stdout",
          "text": [
            "2\n"
          ]
        }
      ]
    },
    {
      "cell_type": "code",
      "source": [
        "from math import floor\n",
        "num = float(input('Digite um número real: '))\n",
        "print(f'O número {num} tem a parte inteira {floor(num)}.')\n"
      ],
      "metadata": {
        "colab": {
          "base_uri": "https://localhost:8080/"
        },
        "id": "65dtcqJyXMAW",
        "outputId": "a7ffa462-1ff5-47d3-c92e-6c22d44405cd"
      },
      "execution_count": 19,
      "outputs": [
        {
          "output_type": "stream",
          "name": "stdout",
          "text": [
            "Digite um número real: 2.25\n",
            "O número 2.25 tem a parte inteira 2.\n"
          ]
        }
      ]
    },
    {
      "cell_type": "code",
      "source": [
        "import math\n",
        "co = int(input('Qual é o comprimento do cateto oposto? '))\n",
        "ca = int(input('E do cateto adjacente? '))\n",
        "q = co**2 + ca**2\n",
        "hi = q**(1/2)\n",
        "print(f'O comprimento da hipotenusa é igual a {q}² ou {hi:.2f}.')"
      ],
      "metadata": {
        "colab": {
          "base_uri": "https://localhost:8080/"
        },
        "id": "QrWqr2qOY0Ar",
        "outputId": "5d7f6686-74f7-4767-ea2d-5aaeb3bad62b"
      },
      "execution_count": 25,
      "outputs": [
        {
          "output_type": "stream",
          "name": "stdout",
          "text": [
            "Qual é o comprimento do cateto oposto? 5\n",
            "E do cateto adjacente? 10\n",
            "O comprimento da hipotenusa é igual a 125² ou 11.18.\n"
          ]
        }
      ]
    },
    {
      "cell_type": "code",
      "source": [
        "from math import sin, cos, tan, radians\n",
        "angulo = float(input('Digite o ângulo: '))\n",
        "seno = sin(radians(angulo))\n",
        "print(f'O ângulo de {angulo} tem o Seno de {seno:.2f}.')\n",
        "cosseno = cos(radians(angulo))\n",
        "print(f'O ângulo de {angulo} tem o Cosseno de {cosseno:.2f}')\n",
        "tangente = tan(radians(angulo))\n",
        "print(f'O ângulo de {angulo} tem o Tangente de {tangente:.2f}')\n"
      ],
      "metadata": {
        "colab": {
          "base_uri": "https://localhost:8080/"
        },
        "id": "TNSWcUYiZ75o",
        "outputId": "4d76d2e7-b171-4231-bd16-de47e94bd4ec"
      },
      "execution_count": 70,
      "outputs": [
        {
          "output_type": "stream",
          "name": "stdout",
          "text": [
            "Digite o ângulo: 45\n",
            "O ângulo de 45.0 tem o Seno de 0.71.\n",
            "O ângulo de 45.0 tem o Cosseno de 0.71\n",
            "O ângulo de 45.0 tem o Tangente de 1.00\n"
          ]
        }
      ]
    },
    {
      "cell_type": "code",
      "source": [
        "import random\n",
        "a1 = input('Digite o nome dos alunos:\\n')\n",
        "a2 = input()\n",
        "a3 = input()\n",
        "a4 = input()\n",
        "lista_alunos = a1, a2, a3, a4\n",
        "print(f'O aluno escolhido foi {random.choice(lista_alunos)}.')\n"
      ],
      "metadata": {
        "colab": {
          "base_uri": "https://localhost:8080/"
        },
        "id": "f3JVnsQDanh1",
        "outputId": "06aebd57-92de-4cd4-c6a5-40be65290c53"
      },
      "execution_count": 42,
      "outputs": [
        {
          "output_type": "stream",
          "name": "stdout",
          "text": [
            "Digite o nome dos alunos:\n",
            "Pedro\n",
            "Lucas\n",
            "Guilherme\n",
            "Gabriel\n",
            "O aluno escolhido foi Pedro.\n"
          ]
        }
      ]
    },
    {
      "cell_type": "code",
      "source": [
        "import random\n",
        "a1 = input('Digite o nome dos alunos:\\n')\n",
        "a2 = input()\n",
        "a3 = input()\n",
        "a4 = input()\n",
        "lista_alunos = a1, a2, a3, a4\n",
        "print(f'A ordem será {random.sample(lista_alunos, 4)}.')\n"
      ],
      "metadata": {
        "colab": {
          "base_uri": "https://localhost:8080/"
        },
        "id": "odUa1B6He7tN",
        "outputId": "cf394303-b60e-48c3-bc28-fd938cb9ffee"
      },
      "execution_count": 55,
      "outputs": [
        {
          "output_type": "stream",
          "name": "stdout",
          "text": [
            "Digite o nome dos alunos:\n",
            "Pedro\n",
            "Lucas\n",
            "Gui\n",
            "Gabriel\n",
            "A ordem será ['Gui', 'Pedro', 'Lucas', 'Gabriel'].\n"
          ]
        }
      ]
    },
    {
      "cell_type": "code",
      "source": [],
      "metadata": {
        "id": "HqUtK4beiS5w"
      },
      "execution_count": null,
      "outputs": []
    }
  ]
}